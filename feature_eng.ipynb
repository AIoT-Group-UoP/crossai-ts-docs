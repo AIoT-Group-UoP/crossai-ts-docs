{
 "cells": [
  {
   "cell_type": "code",
   "id": "d59d570dc426f6b",
   "metadata": {
    "collapsed": false,
    "ExecuteTime": {
     "end_time": "2024-04-23T18:03:09.510640Z",
     "start_time": "2024-04-23T18:03:08.758544Z"
    }
   },
   "source": [
    "import librosa"
   ],
   "outputs": [],
   "execution_count": 1
  },
  {
   "cell_type": "code",
   "id": "f92c8215f7a0086c",
   "metadata": {
    "collapsed": false,
    "ExecuteTime": {
     "end_time": "2024-04-23T18:03:09.829488Z",
     "start_time": "2024-04-23T18:03:09.511669Z"
    }
   },
   "source": [
    "# Load audio file\n",
    "audio_file = \"data/instances/yes.wav\"\n",
    "y, sr = librosa.load(audio_file)"
   ],
   "outputs": [],
   "execution_count": 2
  },
  {
   "cell_type": "code",
   "id": "51fb82eeb9acae7a",
   "metadata": {
    "collapsed": false,
    "ExecuteTime": {
     "end_time": "2024-04-23T18:03:09.897768Z",
     "start_time": "2024-04-23T18:03:09.863454Z"
    }
   },
   "source": "from caits.fe import mfcc",
   "outputs": [],
   "execution_count": 4
  },
  {
   "cell_type": "code",
   "id": "c010c818da11d7f0",
   "metadata": {
    "collapsed": false,
    "ExecuteTime": {
     "end_time": "2024-04-23T18:03:09.937248Z",
     "start_time": "2024-04-23T18:03:09.923909Z"
    }
   },
   "source": [
    "mfccs = mfcc(y=y, sr=sr, n_mfcc=13)  # You can adjust the number of coefficients (n_mfcc) as needed\n",
    "\n",
    "# Display shape of MFCCs array\n",
    "print(\"Shape of MFCCs:\", mfccs.shape)\n",
    "\n",
    "# Display MFCCs\n",
    "print(\"MFCCs:\")\n",
    "print(mfccs.mean(axis=1))  # Display mean value of each coefficient"
   ],
   "outputs": [
    {
     "name": "stdout",
     "output_type": "stream",
     "text": [
      "Shape of MFCCs: (13, 44)\n",
      "MFCCs:\n",
      "[-486.04797     92.37517    -14.298963     7.8092937  -18.2779\n",
      "   -1.1609548  -21.968988   -15.518783     3.8409255  -18.940796\n",
      "  -18.294403    -7.8323917   -7.698464 ]\n"
     ]
    }
   ],
   "execution_count": 5
  },
  {
   "cell_type": "code",
   "id": "34b571a5779281d2",
   "metadata": {
    "collapsed": false,
    "ExecuteTime": {
     "end_time": "2024-04-23T18:03:09.941713Z",
     "start_time": "2024-04-23T18:03:09.939269Z"
    }
   },
   "source": [
    "from caits.fe import zcr_value, rms_value, dominant_frequency"
   ],
   "outputs": [],
   "execution_count": 6
  },
  {
   "cell_type": "code",
   "id": "c59d9007d4858bd5",
   "metadata": {
    "collapsed": false,
    "ExecuteTime": {
     "end_time": "2024-04-23T18:03:09.949576Z",
     "start_time": "2024-04-23T18:03:09.943805Z"
    }
   },
   "source": [
    "zcr_value(array=y)"
   ],
   "outputs": [
    {
     "data": {
      "text/plain": [
       "0.14857816681028618"
      ]
     },
     "execution_count": 7,
     "metadata": {},
     "output_type": "execute_result"
    }
   ],
   "execution_count": 7
  },
  {
   "cell_type": "code",
   "id": "77d977d67a515546",
   "metadata": {
    "collapsed": false,
    "ExecuteTime": {
     "end_time": "2024-04-23T18:03:09.956548Z",
     "start_time": "2024-04-23T18:03:09.951766Z"
    }
   },
   "source": [
    "rms_value(array=y)"
   ],
   "outputs": [
    {
     "data": {
      "text/plain": [
       "0.036245175"
      ]
     },
     "execution_count": 8,
     "metadata": {},
     "output_type": "execute_result"
    }
   ],
   "execution_count": 8
  },
  {
   "cell_type": "code",
   "id": "b2d172cacae58bff",
   "metadata": {
    "collapsed": false,
    "ExecuteTime": {
     "end_time": "2024-04-23T18:03:09.967499Z",
     "start_time": "2024-04-23T18:03:09.959506Z"
    }
   },
   "source": "dominant_frequency(array=y, fs=sr)",
   "outputs": [
    {
     "data": {
      "text/plain": [
       "275.0"
      ]
     },
     "execution_count": 9,
     "metadata": {},
     "output_type": "execute_result"
    }
   ],
   "execution_count": 9
  },
  {
   "cell_type": "code",
   "id": "ef06bebfe5e96f10",
   "metadata": {
    "collapsed": false,
    "ExecuteTime": {
     "end_time": "2024-04-23T18:03:09.972978Z",
     "start_time": "2024-04-23T18:03:09.969904Z"
    }
   },
   "source": [
    "from caits.fe import spectral_values"
   ],
   "outputs": [],
   "execution_count": 10
  },
  {
   "cell_type": "code",
   "id": "3fdae5a99b07731",
   "metadata": {
    "collapsed": false,
    "ExecuteTime": {
     "end_time": "2024-04-23T18:03:09.983537Z",
     "start_time": "2024-04-23T18:03:09.974636Z"
    }
   },
   "source": [
    "spectral_values(array=y, fs=sr)"
   ],
   "outputs": [
    {
     "data": {
      "text/plain": [
       "{'spectral_centroid': 1310.4167050083906,\n",
       " 'spectral_rolloff': 4805,\n",
       " 'spectral_spread': 1480.6332674200514,\n",
       " 'spectral_skewness': 1.8347237404765429,\n",
       " 'spectral_kurtosis': 5.520092337578406,\n",
       " 'spectral_bandwidth': 433.6764860321861,\n",
       " 'spectral_flatness': 4.070952421646253e-05,\n",
       " 'spectral_std': 7.8619763e-07,\n",
       " 'spectral_slope': -0.0008079045977716198,\n",
       " 'spectral_decrease': 0.0006014598863819565}"
      ]
     },
     "execution_count": 11,
     "metadata": {},
     "output_type": "execute_result"
    }
   ],
   "execution_count": 11
  },
  {
   "cell_type": "code",
   "id": "fb3e46774cfcb7f1",
   "metadata": {
    "collapsed": false,
    "ExecuteTime": {
     "end_time": "2024-04-23T18:03:09.988723Z",
     "start_time": "2024-04-23T18:03:09.985111Z"
    }
   },
   "source": "from caits.fe import spectral_flatness, spectral_std, spectral_slope, spectral_decrease",
   "outputs": [],
   "execution_count": 12
  },
  {
   "cell_type": "code",
   "id": "f73dc80931596488",
   "metadata": {
    "collapsed": false,
    "ExecuteTime": {
     "end_time": "2024-04-23T18:03:09.996839Z",
     "start_time": "2024-04-23T18:03:09.990514Z"
    }
   },
   "source": [
    "spectral_flatness(array=y, fs=sr)"
   ],
   "outputs": [
    {
     "data": {
      "text/plain": [
       "4.070952421646253e-05"
      ]
     },
     "execution_count": 13,
     "metadata": {},
     "output_type": "execute_result"
    }
   ],
   "execution_count": 13
  },
  {
   "cell_type": "code",
   "id": "4ae8791083bd22",
   "metadata": {
    "collapsed": false,
    "ExecuteTime": {
     "end_time": "2024-04-23T18:03:10.010819Z",
     "start_time": "2024-04-23T18:03:10.004405Z"
    }
   },
   "source": [
    "spectral_std(array=y, fs=sr)"
   ],
   "outputs": [
    {
     "data": {
      "text/plain": [
       "7.8619763e-07"
      ]
     },
     "execution_count": 14,
     "metadata": {},
     "output_type": "execute_result"
    }
   ],
   "execution_count": 14
  },
  {
   "cell_type": "code",
   "id": "4141b19570b9c2ce",
   "metadata": {
    "collapsed": false,
    "ExecuteTime": {
     "end_time": "2024-04-23T18:03:10.018665Z",
     "start_time": "2024-04-23T18:03:10.012613Z"
    }
   },
   "source": [
    "spectral_slope(array=y, fs=sr)"
   ],
   "outputs": [
    {
     "data": {
      "text/plain": [
       "-0.0008079045977716198"
      ]
     },
     "execution_count": 15,
     "metadata": {},
     "output_type": "execute_result"
    }
   ],
   "execution_count": 15
  },
  {
   "cell_type": "code",
   "id": "2a81edee1c23a554",
   "metadata": {
    "collapsed": false,
    "ExecuteTime": {
     "end_time": "2024-04-23T18:03:10.026852Z",
     "start_time": "2024-04-23T18:03:10.021564Z"
    }
   },
   "source": [
    "spectral_decrease(array=y, fs=sr)"
   ],
   "outputs": [
    {
     "data": {
      "text/plain": [
       "0.0006014598863819565"
      ]
     },
     "execution_count": 16,
     "metadata": {},
     "output_type": "execute_result"
    }
   ],
   "execution_count": 16
  },
  {
   "cell_type": "code",
   "id": "877864da16e6cb34",
   "metadata": {
    "collapsed": false,
    "ExecuteTime": {
     "end_time": "2024-04-23T18:03:10.033606Z",
     "start_time": "2024-04-23T18:03:10.029107Z"
    }
   },
   "source": [
    "from caits.fe import crest_factor"
   ],
   "outputs": [],
   "execution_count": 17
  },
  {
   "cell_type": "code",
   "id": "404ba839994f6461",
   "metadata": {
    "collapsed": false,
    "ExecuteTime": {
     "end_time": "2024-04-23T18:03:10.043861Z",
     "start_time": "2024-04-23T18:03:10.036116Z"
    }
   },
   "source": [
    "crest_factor(array=y)"
   ],
   "outputs": [
    {
     "data": {
      "text/plain": [
       "8.230317"
      ]
     },
     "execution_count": 18,
     "metadata": {},
     "output_type": "execute_result"
    }
   ],
   "execution_count": 18
  },
  {
   "cell_type": "code",
   "id": "c8e054490850d6aa",
   "metadata": {
    "collapsed": false,
    "ExecuteTime": {
     "end_time": "2024-04-23T18:03:10.049356Z",
     "start_time": "2024-04-23T18:03:10.046094Z"
    }
   },
   "source": [
    "from caits.fe import power_spectral_density"
   ],
   "outputs": [],
   "execution_count": 19
  },
  {
   "cell_type": "code",
   "id": "9aefc6f1aa9c1fb3",
   "metadata": {
    "collapsed": false,
    "ExecuteTime": {
     "end_time": "2024-04-23T18:03:10.063114Z",
     "start_time": "2024-04-23T18:03:10.053163Z"
    }
   },
   "source": [
    "power_spectral_density(array=y, fs=sr)"
   ],
   "outputs": [
    {
     "data": {
      "text/plain": [
       "{'PSD_0-200': 0.006354336263714569,\n",
       " 'PSD_300-425': 0.2119007406938689,\n",
       " 'PSD_500-650': 0.09794423426337495,\n",
       " 'PSD_950-1150': 0.0043590131984974885,\n",
       " 'PSD_1400-1800': 0.005212812606554075,\n",
       " 'PSD_2300-2400': 0.0007543214685868425,\n",
       " 'PSD_2850-2950': 4.31839389315993e-05,\n",
       " 'PSD_3800-3900': 1.3220417017362105e-05}"
      ]
     },
     "execution_count": 20,
     "metadata": {},
     "output_type": "execute_result"
    }
   ],
   "execution_count": 20
  },
  {
   "cell_type": "code",
   "id": "14db1011203f7af3",
   "metadata": {
    "collapsed": false,
    "ExecuteTime": {
     "end_time": "2024-04-23T18:03:10.068702Z",
     "start_time": "2024-04-23T18:03:10.066061Z"
    }
   },
   "source": [
    "from caits.fe import envelope_energy_peak_detection"
   ],
   "outputs": [],
   "execution_count": 21
  },
  {
   "cell_type": "code",
   "id": "6b50f5a28d2be96c",
   "metadata": {
    "collapsed": false,
    "ExecuteTime": {
     "end_time": "2024-04-23T18:03:10.101768Z",
     "start_time": "2024-04-23T18:03:10.073063Z"
    }
   },
   "source": [
    "envelope_energy_peak_detection(array=y, fs=sr, export=\"dict\")"
   ],
   "outputs": [
    {
     "data": {
      "text/plain": [
       "{'EEPD50_100': 7,\n",
       " 'EEPD100_150': 7,\n",
       " 'EEPD150_200': 9,\n",
       " 'EEPD200_250': 6,\n",
       " 'EEPD250_300': 7,\n",
       " 'EEPD300_350': 6,\n",
       " 'EEPD350_400': 7,\n",
       " 'EEPD400_450': 6,\n",
       " 'EEPD450_500': 8,\n",
       " 'EEPD500_550': 7,\n",
       " 'EEPD550_600': 8,\n",
       " 'EEPD600_650': 6,\n",
       " 'EEPD650_700': 8,\n",
       " 'EEPD700_750': 7,\n",
       " 'EEPD750_800': 9,\n",
       " 'EEPD800_850': 7,\n",
       " 'EEPD850_900': 8,\n",
       " 'EEPD900_950': 8,\n",
       " 'EEPD950_1000': 10}"
      ]
     },
     "execution_count": 22,
     "metadata": {},
     "output_type": "execute_result"
    }
   ],
   "execution_count": 22
  },
  {
   "cell_type": "code",
   "id": "c32e5dfa6d564dfd",
   "metadata": {
    "collapsed": false,
    "ExecuteTime": {
     "end_time": "2024-04-23T18:03:10.108039Z",
     "start_time": "2024-04-23T18:03:10.103577Z"
    }
   },
   "source": [
    "from caits.fe import mfcc_stats"
   ],
   "outputs": [],
   "execution_count": 23
  },
  {
   "cell_type": "code",
   "id": "9e83d4a63e4f7fde",
   "metadata": {
    "collapsed": false,
    "ExecuteTime": {
     "end_time": "2024-04-23T18:03:10.135580Z",
     "start_time": "2024-04-23T18:03:10.113178Z"
    }
   },
   "source": [
    "stats_mel = mfcc_stats(y=y, sr=sr, export=\"dict\")"
   ],
   "outputs": [],
   "execution_count": 24
  },
  {
   "cell_type": "code",
   "id": "2cb72c02d6e39b3e",
   "metadata": {
    "collapsed": false,
    "ExecuteTime": {
     "end_time": "2024-04-23T18:03:10.142543Z",
     "start_time": "2024-04-23T18:03:10.138523Z"
    }
   },
   "source": [
    "stats_mel"
   ],
   "outputs": [
    {
     "data": {
      "text/plain": [
       "{'mfcc_mean': array([-486.04797  ,   92.37517  ,  -14.298963 ,    7.8092937,\n",
       "         -18.2779   ,   -1.1609548,  -21.968988 ,  -15.518783 ,\n",
       "           3.8409255,  -18.940796 ,  -18.294403 ,   -7.8323917,\n",
       "          -7.698464 ], dtype=float32),\n",
       " 'mfcc_std': array([116.67895 ,  51.07704 ,  29.323784,  30.400919,  29.118196,\n",
       "         31.198929,  19.051943,  10.995165,  17.779922,  10.842804,\n",
       "         11.394732,  12.975804,  10.945525], dtype=float32),\n",
       " 'delta_mean': array([ 0.67177314,  0.43791905, -0.25706452, -0.20324005,  0.17093843,\n",
       "         0.22798729, -0.00722946, -0.24299973, -0.23160857, -0.0272674 ,\n",
       "         0.09051072,  0.09054189,  0.04506451], dtype=float32),\n",
       " 'delta2_mean': array([-0.03311562,  0.04762153,  0.25289285,  0.29181293,  0.06286814,\n",
       "        -0.09637751, -0.06707033, -0.0622903 , -0.02810085,  0.09174763,\n",
       "         0.07641855, -0.06742613, -0.16285568], dtype=float32)}"
      ]
     },
     "execution_count": 25,
     "metadata": {},
     "output_type": "execute_result"
    }
   ],
   "execution_count": 25
  },
  {
   "cell_type": "code",
   "id": "f935b56c902e81d9",
   "metadata": {
    "collapsed": false,
    "ExecuteTime": {
     "end_time": "2024-04-23T18:03:10.150139Z",
     "start_time": "2024-04-23T18:03:10.144790Z"
    }
   },
   "source": [
    "print(len(stats_mel[\"mfcc_mean\"]))\n",
    "print(len(stats_mel[\"mfcc_std\"]))\n",
    "print(len(stats_mel[\"delta_mean\"]))"
   ],
   "outputs": [
    {
     "name": "stdout",
     "output_type": "stream",
     "text": [
      "13\n",
      "13\n",
      "13\n"
     ]
    }
   ],
   "execution_count": 26
  },
  {
   "cell_type": "code",
   "id": "b5db0d18",
   "metadata": {
    "ExecuteTime": {
     "end_time": "2024-04-23T18:03:10.156585Z",
     "start_time": "2024-04-23T18:03:10.153134Z"
    }
   },
   "source": [
    "from caits.fe import spectral_bandwidth"
   ],
   "outputs": [],
   "execution_count": 27
  },
  {
   "cell_type": "code",
   "id": "eb2f284b",
   "metadata": {
    "ExecuteTime": {
     "end_time": "2024-04-23T18:03:10.168208Z",
     "start_time": "2024-04-23T18:03:10.160928Z"
    }
   },
   "source": [
    "spectral_bandwidth(array=y, fs=sr)"
   ],
   "outputs": [
    {
     "data": {
      "text/plain": [
       "433.6764860321861"
      ]
     },
     "execution_count": 28,
     "metadata": {},
     "output_type": "execute_result"
    }
   ],
   "execution_count": 28
  },
  {
   "cell_type": "code",
   "id": "420fc381",
   "metadata": {
    "ExecuteTime": {
     "end_time": "2024-04-23T18:03:10.177704Z",
     "start_time": "2024-04-23T18:03:10.170313Z"
    }
   },
   "source": [
    "librosa.feature.spectral_bandwidth(y=y, sr=sr).mean()"
   ],
   "outputs": [
    {
     "data": {
      "text/plain": [
       "1405.0476991353792"
      ]
     },
     "execution_count": 29,
     "metadata": {},
     "output_type": "execute_result"
    }
   ],
   "execution_count": 29
  },
  {
   "cell_type": "code",
   "id": "5a5ca9aa",
   "metadata": {
    "ExecuteTime": {
     "end_time": "2024-04-23T18:03:10.183548Z",
     "start_time": "2024-04-23T18:03:10.180706Z"
    }
   },
   "source": [],
   "outputs": [],
   "execution_count": 29
  },
  {
   "cell_type": "code",
   "id": "8f53a0ea",
   "metadata": {
    "ExecuteTime": {
     "end_time": "2024-04-23T18:03:10.191257Z",
     "start_time": "2024-04-23T18:03:10.186229Z"
    }
   },
   "source": [],
   "outputs": [],
   "execution_count": 29
  },
  {
   "cell_type": "markdown",
   "id": "4008b50dfca97ea8",
   "metadata": {
    "collapsed": false
   },
   "source": [
    "# Spec extraction"
   ]
  },
  {
   "cell_type": "code",
   "id": "b19080336655a93d",
   "metadata": {
    "collapsed": false,
    "ExecuteTime": {
     "end_time": "2024-04-23T18:03:10.198545Z",
     "start_time": "2024-04-23T18:03:10.194366Z"
    }
   },
   "source": [
    "from caits.fe import spectrogram, melspectrogram, mfcc, mfcc_stats\n",
    "from caits.fe import power_to_db"
   ],
   "outputs": [],
   "execution_count": 30
  },
  {
   "cell_type": "code",
   "id": "b5093637c689fa81",
   "metadata": {
    "collapsed": false,
    "ExecuteTime": {
     "end_time": "2024-04-23T18:03:10.207503Z",
     "start_time": "2024-04-23T18:03:10.202998Z"
    }
   },
   "source": [
    "spec, nfft = spectrogram(y=y)\n",
    "# spec = power_to_db(spec)"
   ],
   "outputs": [],
   "execution_count": 31
  },
  {
   "cell_type": "code",
   "id": "5993f4535090b527",
   "metadata": {
    "collapsed": false,
    "ExecuteTime": {
     "end_time": "2024-04-23T18:03:10.440527Z",
     "start_time": "2024-04-23T18:03:10.210366Z"
    }
   },
   "source": [
    "from caits.visualization import plot_simple_spectrogram"
   ],
   "outputs": [],
   "execution_count": 32
  },
  {
   "cell_type": "code",
   "id": "dbbe1eefff5c1c57",
   "metadata": {
    "collapsed": false,
    "ExecuteTime": {
     "end_time": "2024-04-23T18:03:10.545425Z",
     "start_time": "2024-04-23T18:03:10.441204Z"
    }
   },
   "source": [
    "plot_simple_spectrogram(spec)"
   ],
   "outputs": [
    {
     "data": {
      "text/plain": [
       "<Figure size 640x480 with 2 Axes>"
      ],
      "image/png": "[encoded data removed]"
     },
     "metadata": {},
     "output_type": "display_data"
    }
   ],
   "execution_count": 33
  },
  {
   "cell_type": "code",
   "id": "6577e155",
   "metadata": {
    "ExecuteTime": {
     "end_time": "2024-04-23T18:03:10.547842Z",
     "start_time": "2024-04-23T18:03:10.546188Z"
    }
   },
   "source": [],
   "outputs": [],
   "execution_count": 33
  }
 ],
 "metadata": {
  "kernelspec": {
   "display_name": "Python 3",
   "language": "python",
   "name": "python3"
  },
  "language_info": {
   "codemirror_mode": {
    "name": "ipython",
    "version": 3
   },
   "file_extension": ".py",
   "mimetype": "text/x-python",
   "name": "python",
   "nbconvert_exporter": "python",
   "pygments_lexer": "ipython3",
   "version": "3.11.8"
  }
 },
 "nbformat": 4,
 "nbformat_minor": 5
}
